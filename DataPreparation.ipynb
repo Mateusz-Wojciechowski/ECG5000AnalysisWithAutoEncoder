{
 "cells": [
  {
   "cell_type": "code",
   "execution_count": 1,
   "id": "5258c9dc",
   "metadata": {
    "ExecuteTime": {
     "end_time": "2024-02-07T20:02:08.534796700Z",
     "start_time": "2024-02-07T20:02:08.480836700Z"
    }
   },
   "outputs": [],
   "source": [
    "import matplotlib.pyplot as plt\n",
    "import seaborn as sns\n",
    "import warnings\n",
    "\n",
    "warnings.filterwarnings('ignore', category=DeprecationWarning)\n",
    "import pandas as pd"
   ]
  },
  {
   "cell_type": "code",
   "execution_count": 2,
   "id": "988b1701",
   "metadata": {
    "ExecuteTime": {
     "end_time": "2024-02-07T20:02:08.965143100Z",
     "start_time": "2024-02-07T20:02:08.491677400Z"
    }
   },
   "outputs": [],
   "source": [
    "data = pd.read_csv(\"projectData/ECG5000_TEST.txt\", sep='  ', engine='python', header=None)"
   ]
  },
  {
   "cell_type": "code",
   "execution_count": 3,
   "id": "f0fb796d",
   "metadata": {
    "ExecuteTime": {
     "end_time": "2024-02-07T20:02:09.012813200Z",
     "start_time": "2024-02-07T20:02:08.966474200Z"
    }
   },
   "outputs": [
    {
     "data": {
      "text/html": [
       "<div>\n",
       "<style scoped>\n",
       "    .dataframe tbody tr th:only-of-type {\n",
       "        vertical-align: middle;\n",
       "    }\n",
       "\n",
       "    .dataframe tbody tr th {\n",
       "        vertical-align: top;\n",
       "    }\n",
       "\n",
       "    .dataframe thead th {\n",
       "        text-align: right;\n",
       "    }\n",
       "</style>\n",
       "<table border=\"1\" class=\"dataframe\">\n",
       "  <thead>\n",
       "    <tr style=\"text-align: right;\">\n",
       "      <th></th>\n",
       "      <th>0</th>\n",
       "      <th>1</th>\n",
       "      <th>2</th>\n",
       "      <th>3</th>\n",
       "      <th>4</th>\n",
       "      <th>5</th>\n",
       "      <th>6</th>\n",
       "      <th>7</th>\n",
       "      <th>8</th>\n",
       "      <th>9</th>\n",
       "      <th>...</th>\n",
       "      <th>131</th>\n",
       "      <th>132</th>\n",
       "      <th>133</th>\n",
       "      <th>134</th>\n",
       "      <th>135</th>\n",
       "      <th>136</th>\n",
       "      <th>137</th>\n",
       "      <th>138</th>\n",
       "      <th>139</th>\n",
       "      <th>140</th>\n",
       "    </tr>\n",
       "  </thead>\n",
       "  <tbody>\n",
       "    <tr>\n",
       "      <th>0</th>\n",
       "      <td>1.0</td>\n",
       "      <td>3.690844</td>\n",
       "      <td>0.711414</td>\n",
       "      <td>-2.114091</td>\n",
       "      <td>-4.141007</td>\n",
       "      <td>-4.574472</td>\n",
       "      <td>-3.431909</td>\n",
       "      <td>-1.950791</td>\n",
       "      <td>-1.107067</td>\n",
       "      <td>-0.632322</td>\n",
       "      <td>...</td>\n",
       "      <td>-0.032477</td>\n",
       "      <td>0.022847</td>\n",
       "      <td>0.188937</td>\n",
       "      <td>0.480932</td>\n",
       "      <td>0.629250</td>\n",
       "      <td>0.577291</td>\n",
       "      <td>0.665527</td>\n",
       "      <td>1.035997</td>\n",
       "      <td>1.492287</td>\n",
       "      <td>-1.905073</td>\n",
       "    </tr>\n",
       "    <tr>\n",
       "      <th>1</th>\n",
       "      <td>1.0</td>\n",
       "      <td>-1.348132</td>\n",
       "      <td>-3.996038</td>\n",
       "      <td>-4.226750</td>\n",
       "      <td>-4.251187</td>\n",
       "      <td>-3.477953</td>\n",
       "      <td>-2.228422</td>\n",
       "      <td>-1.808488</td>\n",
       "      <td>-1.534242</td>\n",
       "      <td>-0.779861</td>\n",
       "      <td>...</td>\n",
       "      <td>0.937984</td>\n",
       "      <td>1.570938</td>\n",
       "      <td>1.591394</td>\n",
       "      <td>1.549193</td>\n",
       "      <td>1.193077</td>\n",
       "      <td>0.515134</td>\n",
       "      <td>0.126274</td>\n",
       "      <td>0.267532</td>\n",
       "      <td>1.071148</td>\n",
       "      <td>-1.164009</td>\n",
       "    </tr>\n",
       "    <tr>\n",
       "      <th>2</th>\n",
       "      <td>1.0</td>\n",
       "      <td>1.024295</td>\n",
       "      <td>-0.590314</td>\n",
       "      <td>-1.916949</td>\n",
       "      <td>-2.806989</td>\n",
       "      <td>-3.527905</td>\n",
       "      <td>-3.638675</td>\n",
       "      <td>-2.779767</td>\n",
       "      <td>-2.019031</td>\n",
       "      <td>-1.980754</td>\n",
       "      <td>...</td>\n",
       "      <td>0.368820</td>\n",
       "      <td>0.443502</td>\n",
       "      <td>0.827582</td>\n",
       "      <td>1.237007</td>\n",
       "      <td>1.235121</td>\n",
       "      <td>1.738103</td>\n",
       "      <td>1.800767</td>\n",
       "      <td>1.816301</td>\n",
       "      <td>1.473963</td>\n",
       "      <td>1.389767</td>\n",
       "    </tr>\n",
       "    <tr>\n",
       "      <th>3</th>\n",
       "      <td>1.0</td>\n",
       "      <td>0.545657</td>\n",
       "      <td>-1.014383</td>\n",
       "      <td>-2.316698</td>\n",
       "      <td>-3.634040</td>\n",
       "      <td>-4.196857</td>\n",
       "      <td>-3.758093</td>\n",
       "      <td>-3.194444</td>\n",
       "      <td>-2.221764</td>\n",
       "      <td>-1.588554</td>\n",
       "      <td>...</td>\n",
       "      <td>0.894638</td>\n",
       "      <td>0.777530</td>\n",
       "      <td>1.119240</td>\n",
       "      <td>0.902984</td>\n",
       "      <td>0.554098</td>\n",
       "      <td>0.497053</td>\n",
       "      <td>0.418116</td>\n",
       "      <td>0.703108</td>\n",
       "      <td>1.064602</td>\n",
       "      <td>-0.044853</td>\n",
       "    </tr>\n",
       "    <tr>\n",
       "      <th>4</th>\n",
       "      <td>1.0</td>\n",
       "      <td>0.661133</td>\n",
       "      <td>-1.552471</td>\n",
       "      <td>-3.124641</td>\n",
       "      <td>-4.313351</td>\n",
       "      <td>-4.017042</td>\n",
       "      <td>-3.005993</td>\n",
       "      <td>-1.832411</td>\n",
       "      <td>-1.503886</td>\n",
       "      <td>-1.071705</td>\n",
       "      <td>...</td>\n",
       "      <td>1.416582</td>\n",
       "      <td>1.280823</td>\n",
       "      <td>1.494315</td>\n",
       "      <td>1.618764</td>\n",
       "      <td>1.447449</td>\n",
       "      <td>1.238577</td>\n",
       "      <td>1.749692</td>\n",
       "      <td>1.986803</td>\n",
       "      <td>1.422756</td>\n",
       "      <td>-0.357784</td>\n",
       "    </tr>\n",
       "    <tr>\n",
       "      <th>...</th>\n",
       "      <td>...</td>\n",
       "      <td>...</td>\n",
       "      <td>...</td>\n",
       "      <td>...</td>\n",
       "      <td>...</td>\n",
       "      <td>...</td>\n",
       "      <td>...</td>\n",
       "      <td>...</td>\n",
       "      <td>...</td>\n",
       "      <td>...</td>\n",
       "      <td>...</td>\n",
       "      <td>...</td>\n",
       "      <td>...</td>\n",
       "      <td>...</td>\n",
       "      <td>...</td>\n",
       "      <td>...</td>\n",
       "      <td>...</td>\n",
       "      <td>...</td>\n",
       "      <td>...</td>\n",
       "      <td>...</td>\n",
       "      <td>...</td>\n",
       "    </tr>\n",
       "    <tr>\n",
       "      <th>4495</th>\n",
       "      <td>4.0</td>\n",
       "      <td>-1.122969</td>\n",
       "      <td>-2.252925</td>\n",
       "      <td>-2.867628</td>\n",
       "      <td>-3.358605</td>\n",
       "      <td>-3.167849</td>\n",
       "      <td>-2.638360</td>\n",
       "      <td>-1.664162</td>\n",
       "      <td>-0.935655</td>\n",
       "      <td>-0.866953</td>\n",
       "      <td>...</td>\n",
       "      <td>0.205543</td>\n",
       "      <td>-0.472419</td>\n",
       "      <td>-1.310147</td>\n",
       "      <td>-2.029521</td>\n",
       "      <td>-3.221294</td>\n",
       "      <td>-4.176790</td>\n",
       "      <td>-4.009720</td>\n",
       "      <td>-2.874136</td>\n",
       "      <td>-2.008369</td>\n",
       "      <td>-1.808334</td>\n",
       "    </tr>\n",
       "    <tr>\n",
       "      <th>4496</th>\n",
       "      <td>2.0</td>\n",
       "      <td>-0.547705</td>\n",
       "      <td>-1.889545</td>\n",
       "      <td>-2.839779</td>\n",
       "      <td>-3.457912</td>\n",
       "      <td>-3.929149</td>\n",
       "      <td>-3.966026</td>\n",
       "      <td>-3.492560</td>\n",
       "      <td>-2.695270</td>\n",
       "      <td>-1.849691</td>\n",
       "      <td>...</td>\n",
       "      <td>1.218185</td>\n",
       "      <td>1.258419</td>\n",
       "      <td>1.907530</td>\n",
       "      <td>2.280888</td>\n",
       "      <td>1.895242</td>\n",
       "      <td>1.437702</td>\n",
       "      <td>1.193433</td>\n",
       "      <td>1.261335</td>\n",
       "      <td>1.150449</td>\n",
       "      <td>0.804932</td>\n",
       "    </tr>\n",
       "    <tr>\n",
       "      <th>4497</th>\n",
       "      <td>2.0</td>\n",
       "      <td>-1.351779</td>\n",
       "      <td>-2.209006</td>\n",
       "      <td>-2.520225</td>\n",
       "      <td>-3.061475</td>\n",
       "      <td>-3.065141</td>\n",
       "      <td>-3.030739</td>\n",
       "      <td>-2.622720</td>\n",
       "      <td>-2.044092</td>\n",
       "      <td>-1.295874</td>\n",
       "      <td>...</td>\n",
       "      <td>-0.896575</td>\n",
       "      <td>-1.512234</td>\n",
       "      <td>-2.076075</td>\n",
       "      <td>-2.586042</td>\n",
       "      <td>-3.322799</td>\n",
       "      <td>-3.627311</td>\n",
       "      <td>-3.437038</td>\n",
       "      <td>-2.260023</td>\n",
       "      <td>-1.577823</td>\n",
       "      <td>-0.684531</td>\n",
       "    </tr>\n",
       "    <tr>\n",
       "      <th>4498</th>\n",
       "      <td>2.0</td>\n",
       "      <td>-1.124432</td>\n",
       "      <td>-1.905039</td>\n",
       "      <td>-2.192707</td>\n",
       "      <td>-2.904320</td>\n",
       "      <td>-2.900722</td>\n",
       "      <td>-2.761252</td>\n",
       "      <td>-2.569705</td>\n",
       "      <td>-2.043893</td>\n",
       "      <td>-1.490538</td>\n",
       "      <td>...</td>\n",
       "      <td>-2.495989</td>\n",
       "      <td>-2.821782</td>\n",
       "      <td>-3.268355</td>\n",
       "      <td>-3.634981</td>\n",
       "      <td>-3.168765</td>\n",
       "      <td>-2.245878</td>\n",
       "      <td>-1.262260</td>\n",
       "      <td>-0.443307</td>\n",
       "      <td>-0.559769</td>\n",
       "      <td>0.108568</td>\n",
       "    </tr>\n",
       "    <tr>\n",
       "      <th>4499</th>\n",
       "      <td>2.0</td>\n",
       "      <td>0.728813</td>\n",
       "      <td>0.192597</td>\n",
       "      <td>-0.733884</td>\n",
       "      <td>-1.779456</td>\n",
       "      <td>-2.345908</td>\n",
       "      <td>-2.977565</td>\n",
       "      <td>-3.380053</td>\n",
       "      <td>-3.417164</td>\n",
       "      <td>-3.030925</td>\n",
       "      <td>...</td>\n",
       "      <td>1.219499</td>\n",
       "      <td>1.267275</td>\n",
       "      <td>1.678989</td>\n",
       "      <td>2.483389</td>\n",
       "      <td>2.569073</td>\n",
       "      <td>2.122891</td>\n",
       "      <td>1.753963</td>\n",
       "      <td>1.538975</td>\n",
       "      <td>1.713781</td>\n",
       "      <td>1.309382</td>\n",
       "    </tr>\n",
       "  </tbody>\n",
       "</table>\n",
       "<p>4500 rows × 141 columns</p>\n",
       "</div>"
      ],
      "text/plain": [
       "      0         1         2         3         4         5         6    \\\n",
       "0     1.0  3.690844  0.711414 -2.114091 -4.141007 -4.574472 -3.431909   \n",
       "1     1.0 -1.348132 -3.996038 -4.226750 -4.251187 -3.477953 -2.228422   \n",
       "2     1.0  1.024295 -0.590314 -1.916949 -2.806989 -3.527905 -3.638675   \n",
       "3     1.0  0.545657 -1.014383 -2.316698 -3.634040 -4.196857 -3.758093   \n",
       "4     1.0  0.661133 -1.552471 -3.124641 -4.313351 -4.017042 -3.005993   \n",
       "...   ...       ...       ...       ...       ...       ...       ...   \n",
       "4495  4.0 -1.122969 -2.252925 -2.867628 -3.358605 -3.167849 -2.638360   \n",
       "4496  2.0 -0.547705 -1.889545 -2.839779 -3.457912 -3.929149 -3.966026   \n",
       "4497  2.0 -1.351779 -2.209006 -2.520225 -3.061475 -3.065141 -3.030739   \n",
       "4498  2.0 -1.124432 -1.905039 -2.192707 -2.904320 -2.900722 -2.761252   \n",
       "4499  2.0  0.728813  0.192597 -0.733884 -1.779456 -2.345908 -2.977565   \n",
       "\n",
       "           7         8         9    ...       131       132       133  \\\n",
       "0    -1.950791 -1.107067 -0.632322  ... -0.032477  0.022847  0.188937   \n",
       "1    -1.808488 -1.534242 -0.779861  ...  0.937984  1.570938  1.591394   \n",
       "2    -2.779767 -2.019031 -1.980754  ...  0.368820  0.443502  0.827582   \n",
       "3    -3.194444 -2.221764 -1.588554  ...  0.894638  0.777530  1.119240   \n",
       "4    -1.832411 -1.503886 -1.071705  ...  1.416582  1.280823  1.494315   \n",
       "...        ...       ...       ...  ...       ...       ...       ...   \n",
       "4495 -1.664162 -0.935655 -0.866953  ...  0.205543 -0.472419 -1.310147   \n",
       "4496 -3.492560 -2.695270 -1.849691  ...  1.218185  1.258419  1.907530   \n",
       "4497 -2.622720 -2.044092 -1.295874  ... -0.896575 -1.512234 -2.076075   \n",
       "4498 -2.569705 -2.043893 -1.490538  ... -2.495989 -2.821782 -3.268355   \n",
       "4499 -3.380053 -3.417164 -3.030925  ...  1.219499  1.267275  1.678989   \n",
       "\n",
       "           134       135       136       137       138       139       140  \n",
       "0     0.480932  0.629250  0.577291  0.665527  1.035997  1.492287 -1.905073  \n",
       "1     1.549193  1.193077  0.515134  0.126274  0.267532  1.071148 -1.164009  \n",
       "2     1.237007  1.235121  1.738103  1.800767  1.816301  1.473963  1.389767  \n",
       "3     0.902984  0.554098  0.497053  0.418116  0.703108  1.064602 -0.044853  \n",
       "4     1.618764  1.447449  1.238577  1.749692  1.986803  1.422756 -0.357784  \n",
       "...        ...       ...       ...       ...       ...       ...       ...  \n",
       "4495 -2.029521 -3.221294 -4.176790 -4.009720 -2.874136 -2.008369 -1.808334  \n",
       "4496  2.280888  1.895242  1.437702  1.193433  1.261335  1.150449  0.804932  \n",
       "4497 -2.586042 -3.322799 -3.627311 -3.437038 -2.260023 -1.577823 -0.684531  \n",
       "4498 -3.634981 -3.168765 -2.245878 -1.262260 -0.443307 -0.559769  0.108568  \n",
       "4499  2.483389  2.569073  2.122891  1.753963  1.538975  1.713781  1.309382  \n",
       "\n",
       "[4500 rows x 141 columns]"
      ]
     },
     "execution_count": 3,
     "metadata": {},
     "output_type": "execute_result"
    }
   ],
   "source": [
    "data"
   ]
  },
  {
   "cell_type": "code",
   "execution_count": 4,
   "id": "2ba13b0d",
   "metadata": {
    "ExecuteTime": {
     "end_time": "2024-02-07T20:02:09.047741900Z",
     "start_time": "2024-02-07T20:02:09.012813200Z"
    }
   },
   "outputs": [],
   "source": [
    "data = data.add_prefix('c')"
   ]
  },
  {
   "cell_type": "code",
   "execution_count": 5,
   "id": "bfcb6566",
   "metadata": {
    "ExecuteTime": {
     "end_time": "2024-02-07T20:02:09.087715Z",
     "start_time": "2024-02-07T20:02:09.032366900Z"
    }
   },
   "outputs": [
    {
     "data": {
      "text/html": [
       "<div>\n",
       "<style scoped>\n",
       "    .dataframe tbody tr th:only-of-type {\n",
       "        vertical-align: middle;\n",
       "    }\n",
       "\n",
       "    .dataframe tbody tr th {\n",
       "        vertical-align: top;\n",
       "    }\n",
       "\n",
       "    .dataframe thead th {\n",
       "        text-align: right;\n",
       "    }\n",
       "</style>\n",
       "<table border=\"1\" class=\"dataframe\">\n",
       "  <thead>\n",
       "    <tr style=\"text-align: right;\">\n",
       "      <th></th>\n",
       "      <th>c0</th>\n",
       "      <th>c1</th>\n",
       "      <th>c2</th>\n",
       "      <th>c3</th>\n",
       "      <th>c4</th>\n",
       "      <th>c5</th>\n",
       "      <th>c6</th>\n",
       "      <th>c7</th>\n",
       "      <th>c8</th>\n",
       "      <th>c9</th>\n",
       "      <th>...</th>\n",
       "      <th>c131</th>\n",
       "      <th>c132</th>\n",
       "      <th>c133</th>\n",
       "      <th>c134</th>\n",
       "      <th>c135</th>\n",
       "      <th>c136</th>\n",
       "      <th>c137</th>\n",
       "      <th>c138</th>\n",
       "      <th>c139</th>\n",
       "      <th>c140</th>\n",
       "    </tr>\n",
       "  </thead>\n",
       "  <tbody>\n",
       "    <tr>\n",
       "      <th>0</th>\n",
       "      <td>1.0</td>\n",
       "      <td>3.690844</td>\n",
       "      <td>0.711414</td>\n",
       "      <td>-2.114091</td>\n",
       "      <td>-4.141007</td>\n",
       "      <td>-4.574472</td>\n",
       "      <td>-3.431909</td>\n",
       "      <td>-1.950791</td>\n",
       "      <td>-1.107067</td>\n",
       "      <td>-0.632322</td>\n",
       "      <td>...</td>\n",
       "      <td>-0.032477</td>\n",
       "      <td>0.022847</td>\n",
       "      <td>0.188937</td>\n",
       "      <td>0.480932</td>\n",
       "      <td>0.629250</td>\n",
       "      <td>0.577291</td>\n",
       "      <td>0.665527</td>\n",
       "      <td>1.035997</td>\n",
       "      <td>1.492287</td>\n",
       "      <td>-1.905073</td>\n",
       "    </tr>\n",
       "    <tr>\n",
       "      <th>1</th>\n",
       "      <td>1.0</td>\n",
       "      <td>-1.348132</td>\n",
       "      <td>-3.996038</td>\n",
       "      <td>-4.226750</td>\n",
       "      <td>-4.251187</td>\n",
       "      <td>-3.477953</td>\n",
       "      <td>-2.228422</td>\n",
       "      <td>-1.808488</td>\n",
       "      <td>-1.534242</td>\n",
       "      <td>-0.779861</td>\n",
       "      <td>...</td>\n",
       "      <td>0.937984</td>\n",
       "      <td>1.570938</td>\n",
       "      <td>1.591394</td>\n",
       "      <td>1.549193</td>\n",
       "      <td>1.193077</td>\n",
       "      <td>0.515134</td>\n",
       "      <td>0.126274</td>\n",
       "      <td>0.267532</td>\n",
       "      <td>1.071148</td>\n",
       "      <td>-1.164009</td>\n",
       "    </tr>\n",
       "    <tr>\n",
       "      <th>2</th>\n",
       "      <td>1.0</td>\n",
       "      <td>1.024295</td>\n",
       "      <td>-0.590314</td>\n",
       "      <td>-1.916949</td>\n",
       "      <td>-2.806989</td>\n",
       "      <td>-3.527905</td>\n",
       "      <td>-3.638675</td>\n",
       "      <td>-2.779767</td>\n",
       "      <td>-2.019031</td>\n",
       "      <td>-1.980754</td>\n",
       "      <td>...</td>\n",
       "      <td>0.368820</td>\n",
       "      <td>0.443502</td>\n",
       "      <td>0.827582</td>\n",
       "      <td>1.237007</td>\n",
       "      <td>1.235121</td>\n",
       "      <td>1.738103</td>\n",
       "      <td>1.800767</td>\n",
       "      <td>1.816301</td>\n",
       "      <td>1.473963</td>\n",
       "      <td>1.389767</td>\n",
       "    </tr>\n",
       "    <tr>\n",
       "      <th>3</th>\n",
       "      <td>1.0</td>\n",
       "      <td>0.545657</td>\n",
       "      <td>-1.014383</td>\n",
       "      <td>-2.316698</td>\n",
       "      <td>-3.634040</td>\n",
       "      <td>-4.196857</td>\n",
       "      <td>-3.758093</td>\n",
       "      <td>-3.194444</td>\n",
       "      <td>-2.221764</td>\n",
       "      <td>-1.588554</td>\n",
       "      <td>...</td>\n",
       "      <td>0.894638</td>\n",
       "      <td>0.777530</td>\n",
       "      <td>1.119240</td>\n",
       "      <td>0.902984</td>\n",
       "      <td>0.554098</td>\n",
       "      <td>0.497053</td>\n",
       "      <td>0.418116</td>\n",
       "      <td>0.703108</td>\n",
       "      <td>1.064602</td>\n",
       "      <td>-0.044853</td>\n",
       "    </tr>\n",
       "    <tr>\n",
       "      <th>4</th>\n",
       "      <td>1.0</td>\n",
       "      <td>0.661133</td>\n",
       "      <td>-1.552471</td>\n",
       "      <td>-3.124641</td>\n",
       "      <td>-4.313351</td>\n",
       "      <td>-4.017042</td>\n",
       "      <td>-3.005993</td>\n",
       "      <td>-1.832411</td>\n",
       "      <td>-1.503886</td>\n",
       "      <td>-1.071705</td>\n",
       "      <td>...</td>\n",
       "      <td>1.416582</td>\n",
       "      <td>1.280823</td>\n",
       "      <td>1.494315</td>\n",
       "      <td>1.618764</td>\n",
       "      <td>1.447449</td>\n",
       "      <td>1.238577</td>\n",
       "      <td>1.749692</td>\n",
       "      <td>1.986803</td>\n",
       "      <td>1.422756</td>\n",
       "      <td>-0.357784</td>\n",
       "    </tr>\n",
       "  </tbody>\n",
       "</table>\n",
       "<p>5 rows × 141 columns</p>\n",
       "</div>"
      ],
      "text/plain": [
       "    c0        c1        c2        c3        c4        c5        c6        c7  \\\n",
       "0  1.0  3.690844  0.711414 -2.114091 -4.141007 -4.574472 -3.431909 -1.950791   \n",
       "1  1.0 -1.348132 -3.996038 -4.226750 -4.251187 -3.477953 -2.228422 -1.808488   \n",
       "2  1.0  1.024295 -0.590314 -1.916949 -2.806989 -3.527905 -3.638675 -2.779767   \n",
       "3  1.0  0.545657 -1.014383 -2.316698 -3.634040 -4.196857 -3.758093 -3.194444   \n",
       "4  1.0  0.661133 -1.552471 -3.124641 -4.313351 -4.017042 -3.005993 -1.832411   \n",
       "\n",
       "         c8        c9  ...      c131      c132      c133      c134      c135  \\\n",
       "0 -1.107067 -0.632322  ... -0.032477  0.022847  0.188937  0.480932  0.629250   \n",
       "1 -1.534242 -0.779861  ...  0.937984  1.570938  1.591394  1.549193  1.193077   \n",
       "2 -2.019031 -1.980754  ...  0.368820  0.443502  0.827582  1.237007  1.235121   \n",
       "3 -2.221764 -1.588554  ...  0.894638  0.777530  1.119240  0.902984  0.554098   \n",
       "4 -1.503886 -1.071705  ...  1.416582  1.280823  1.494315  1.618764  1.447449   \n",
       "\n",
       "       c136      c137      c138      c139      c140  \n",
       "0  0.577291  0.665527  1.035997  1.492287 -1.905073  \n",
       "1  0.515134  0.126274  0.267532  1.071148 -1.164009  \n",
       "2  1.738103  1.800767  1.816301  1.473963  1.389767  \n",
       "3  0.497053  0.418116  0.703108  1.064602 -0.044853  \n",
       "4  1.238577  1.749692  1.986803  1.422756 -0.357784  \n",
       "\n",
       "[5 rows x 141 columns]"
      ]
     },
     "execution_count": 5,
     "metadata": {},
     "output_type": "execute_result"
    }
   ],
   "source": [
    "data.head()"
   ]
  },
  {
   "cell_type": "code",
   "execution_count": 6,
   "id": "7b2f8a47",
   "metadata": {
    "ExecuteTime": {
     "end_time": "2024-02-07T20:02:09.168829400Z",
     "start_time": "2024-02-07T20:02:09.062049300Z"
    }
   },
   "outputs": [
    {
     "data": {
      "text/plain": [
       "c0\n",
       "1.0    2627\n",
       "2.0    1590\n",
       "4.0     175\n",
       "3.0      86\n",
       "5.0      22\n",
       "Name: count, dtype: int64"
      ]
     },
     "execution_count": 6,
     "metadata": {},
     "output_type": "execute_result"
    }
   ],
   "source": [
    "count = data['c0'].value_counts()\n",
    "count"
   ]
  },
  {
   "cell_type": "code",
   "execution_count": 7,
   "id": "d7d2d3a8",
   "metadata": {
    "ExecuteTime": {
     "end_time": "2024-02-07T20:02:09.201584300Z",
     "start_time": "2024-02-07T20:02:09.077801100Z"
    }
   },
   "outputs": [
    {
     "name": "stdout",
     "output_type": "stream",
     "text": [
      "Amount of normal cases: 2627\n",
      "Amount of anomalous cases: 1873\n"
     ]
    }
   ],
   "source": [
    "normal_count = count[1.0]\n",
    "anomaly_count = count[count.index.isin([2.0, 3.0, 4.0, 5.0])].sum()\n",
    "print(f\"Amount of normal cases: {normal_count}\")\n",
    "print(f\"Amount of anomalous cases: {anomaly_count}\")"
   ]
  },
  {
   "cell_type": "code",
   "execution_count": 8,
   "id": "e1dc589a",
   "metadata": {
    "ExecuteTime": {
     "end_time": "2024-02-07T20:02:09.362785700Z",
     "start_time": "2024-02-07T20:02:09.089881200Z"
    }
   },
   "outputs": [],
   "source": [
    "from sklearn.preprocessing import MinMaxScaler"
   ]
  },
  {
   "cell_type": "code",
   "execution_count": 9,
   "id": "1c0bfe42",
   "metadata": {
    "ExecuteTime": {
     "end_time": "2024-02-07T20:02:09.363929400Z",
     "start_time": "2024-02-07T20:02:09.253131600Z"
    }
   },
   "outputs": [
    {
     "name": "stdout",
     "output_type": "stream",
     "text": [
      "Shape of the data: (4500, 141)\n"
     ]
    }
   ],
   "source": [
    "print(f\"Shape of the data: {data.shape}\")"
   ]
  },
  {
   "cell_type": "code",
   "execution_count": 10,
   "id": "1aef2dbc60121e8",
   "metadata": {
    "ExecuteTime": {
     "end_time": "2024-02-07T20:02:09.365215600Z",
     "start_time": "2024-02-07T20:02:09.283729600Z"
    },
    "collapsed": false,
    "jupyter": {
     "outputs_hidden": false
    }
   },
   "outputs": [],
   "source": [
    "y = data['c0']\n",
    "x = data.drop('c0', axis=1)\n",
    "scaler = MinMaxScaler()\n",
    "data = scaler.fit(x)\n",
    "scaled_data = data.transform(x)\n",
    "X_normal = scaled_data[y == 1.0]\n",
    "X_anomalies = scaled_data[y != 1.0]"
   ]
  },
  {
   "cell_type": "code",
   "execution_count": 11,
   "id": "a255b6b1ebaf7cda",
   "metadata": {
    "ExecuteTime": {
     "end_time": "2024-02-07T20:02:09.365215600Z",
     "start_time": "2024-02-07T20:02:09.297690300Z"
    },
    "collapsed": false,
    "jupyter": {
     "outputs_hidden": false
    }
   },
   "outputs": [
    {
     "data": {
      "text/plain": [
       "(2627, 140)"
      ]
     },
     "execution_count": 11,
     "metadata": {},
     "output_type": "execute_result"
    }
   ],
   "source": [
    "X_normal.shape"
   ]
  },
  {
   "cell_type": "code",
   "execution_count": 12,
   "id": "8a5631c023fda829",
   "metadata": {
    "ExecuteTime": {
     "end_time": "2024-02-07T20:02:09.375222500Z",
     "start_time": "2024-02-07T20:02:09.317416500Z"
    },
    "collapsed": false,
    "jupyter": {
     "outputs_hidden": false
    }
   },
   "outputs": [
    {
     "data": {
      "text/plain": [
       "(1873, 140)"
      ]
     },
     "execution_count": 12,
     "metadata": {},
     "output_type": "execute_result"
    }
   ],
   "source": [
    "X_anomalies.shape"
   ]
  },
  {
   "cell_type": "code",
   "execution_count": 13,
   "id": "7db98cc0b5ba379e",
   "metadata": {
    "ExecuteTime": {
     "end_time": "2024-02-07T20:02:09.380059900Z",
     "start_time": "2024-02-07T20:02:09.330718700Z"
    },
    "collapsed": false,
    "jupyter": {
     "outputs_hidden": false
    }
   },
   "outputs": [],
   "source": [
    "X_normal_train = X_normal[:round(X_normal.shape[0]*0.8)]\n",
    "X_normal_test = X_normal[round(X_normal.shape[0]*0.8):]\n",
    "X_anomalies_train = X_anomalies[:round(X_anomalies.shape[0]*0.8)]\n",
    "X_anomalies_test = X_anomalies[round(X_anomalies.shape[0]*0.8):]"
   ]
  },
  {
   "cell_type": "code",
   "execution_count": 14,
   "id": "74b0cf80",
   "metadata": {
    "ExecuteTime": {
     "end_time": "2024-02-07T20:02:09.380059900Z",
     "start_time": "2024-02-07T20:02:09.349291100Z"
    }
   },
   "outputs": [
    {
     "name": "stdout",
     "output_type": "stream",
     "text": [
      "Shapes: X_normal_train: (2102, 140), X_normal_test: (525, 140), X_anomalies_train: (1498, 140), X_anomalies_test: (375, 140)\n"
     ]
    }
   ],
   "source": [
    "print(f\"Shapes: X_normal_train: {X_normal_train.shape}, X_normal_test: {X_normal_test.shape}, X_anomalies_train: {X_anomalies_train.shape}, X_anomalies_test: {X_anomalies_test.shape}\")"
   ]
  },
  {
   "cell_type": "code",
   "execution_count": 15,
   "id": "e7f90b4d",
   "metadata": {
    "ExecuteTime": {
     "end_time": "2024-02-07T20:02:09.994442700Z",
     "start_time": "2024-02-07T20:02:09.409427900Z"
    }
   },
   "outputs": [
    {
     "data": {
      "image/png": "[encoded data removed]",
      "text/plain": [
       "<Figure size 640x480 with 1 Axes>"
      ]
     },
     "metadata": {},
     "output_type": "display_data"
    }
   ],
   "source": [
    "plt.plot(X_normal_train[3], label='normal 1')\n",
    "plt.plot(X_normal_train[1], label='normal 2')\n",
    "plt.plot(X_normal_train[2], label='normal 3')\n",
    "plt.legend()\n",
    "plt.show()"
   ]
  },
  {
   "cell_type": "code",
   "execution_count": 16,
   "id": "3b812e6d",
   "metadata": {
    "ExecuteTime": {
     "end_time": "2024-02-07T20:02:10.244401100Z",
     "start_time": "2024-02-07T20:02:09.943956200Z"
    }
   },
   "outputs": [
    {
     "data": {
      "image/png": "[encoded data removed]",
      "text/plain": [
       "<Figure size 640x480 with 1 Axes>"
      ]
     },
     "metadata": {},
     "output_type": "display_data"
    }
   ],
   "source": [
    "plt.plot(X_anomalies_train[0], label='anomaly 1')\n",
    "plt.plot(X_anomalies_train[1], label='anomaly 2')\n",
    "plt.plot(X_anomalies_train[2], label='anomaly 3')\n",
    "plt.legend()\n",
    "plt.show()"
   ]
  },
  {
   "cell_type": "code",
   "execution_count": 17,
   "id": "5561d7e5",
   "metadata": {
    "ExecuteTime": {
     "end_time": "2024-02-07T20:02:10.923194Z",
     "start_time": "2024-02-07T20:02:10.249180100Z"
    }
   },
   "outputs": [],
   "source": [
    "# from sklearn.decomposition import PCA\n",
    "# \n",
    "# pca = PCA(n_components=2)\n",
    "# X_r = pca.fit_transform(trained_data_scaled)\n",
    "# \n",
    "# plt.figure()\n",
    "# plt.scatter(X_r[y_train == 1, 0], X_r[y_train == 1, 1], label='Normal', alpha=0.5)\n",
    "# plt.scatter(X_r[y_train != 1, 0], X_r[y_train != 1, 1], label='Anomaly', alpha=0.5)\n",
    "# plt.legend()\n",
    "# plt.title('PCA Reduction')\n",
    "# plt.xlabel('PCA1')\n",
    "# plt.ylabel('PCA2')\n",
    "# plt.show()"
   ]
  },
  {
   "cell_type": "code",
   "execution_count": 18,
   "id": "29f32cea",
   "metadata": {
    "ExecuteTime": {
     "end_time": "2024-02-07T20:02:11.666215600Z",
     "start_time": "2024-02-07T20:02:10.930979600Z"
    }
   },
   "outputs": [],
   "source": [
    "X_train_anomalies_df = pd.DataFrame(X_anomalies_train)\n",
    "X_train_anomalies_df.add_prefix('c')\n",
    "\n",
    "X_train_normal_df = pd.DataFrame(X_normal_train)\n",
    "X_train_normal_df.add_prefix('c')\n",
    "\n",
    "X_test_anomalies_df = pd.DataFrame(X_anomalies_test)\n",
    "X_test_anomalies_df.add_prefix('c')\n",
    "\n",
    "X_test_normal_df = pd.DataFrame(X_normal_test)\n",
    "X_test_normal_df.add_prefix('c')\n",
    "\n",
    "\n",
    "X_train_anomalies_df.to_csv('X_anomalies_train.csv', index=False)\n",
    "X_train_normal_df.to_csv('X_normal_train.csv', index=False)\n",
    "X_test_anomalies_df.to_csv('X_anomalies_test.csv', index=False)\n",
    "X_test_normal_df.to_csv('X_normal_test.csv', index=False)"
   ]
  },
  {
   "cell_type": "code",
   "execution_count": null,
   "id": "9850baea4e77b0f7",
   "metadata": {
    "ExecuteTime": {
     "end_time": "2024-02-07T20:02:11.686307100Z",
     "start_time": "2024-02-07T20:02:11.671226600Z"
    },
    "collapsed": false,
    "jupyter": {
     "outputs_hidden": false
    }
   },
   "outputs": [],
   "source": []
  }
 ],
 "metadata": {
  "kernelspec": {
   "display_name": "Python 3 (ipykernel)",
   "language": "python",
   "name": "python3"
  },
  "language_info": {
   "codemirror_mode": {
    "name": "ipython",
    "version": 3
   },
   "file_extension": ".py",
   "mimetype": "text/x-python",
   "name": "python",
   "nbconvert_exporter": "python",
   "pygments_lexer": "ipython3",
   "version": "3.9.13"
  }
 },
 "nbformat": 4,
 "nbformat_minor": 5
}
